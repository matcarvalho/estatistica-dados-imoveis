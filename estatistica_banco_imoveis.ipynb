{
  "nbformat": 4,
  "nbformat_minor": 0,
  "metadata": {
    "colab": {
      "name": "estatistica_banco_imoveis.ipynb",
      "provenance": [],
      "collapsed_sections": [],
      "authorship_tag": "ABX9TyNgAHwHBCf6/41DUxm/nrkA",
      "include_colab_link": true
    },
    "kernelspec": {
      "name": "python3",
      "display_name": "Python 3"
    },
    "language_info": {
      "name": "python"
    }
  },
  "cells": [
    {
      "cell_type": "markdown",
      "metadata": {
        "id": "view-in-github",
        "colab_type": "text"
      },
      "source": [
        "<a href=\"https://colab.research.google.com/github/matcarvalho/estatistica-dados-imoveis/blob/main/estatistica_banco_imoveis.ipynb\" target=\"_parent\"><img src=\"https://colab.research.google.com/assets/colab-badge.svg\" alt=\"Open In Colab\"/></a>"
      ]
    },
    {
      "cell_type": "code",
      "metadata": {
        "id": "lMxnLzNhtSmq"
      },
      "source": [
        "# Importações\n",
        "import pandas as pd\n",
        "import numpy as np\n",
        "import seaborn as sns\n",
        "import matplotlib.pyplot as plt"
      ],
      "execution_count": 186,
      "outputs": []
    },
    {
      "cell_type": "code",
      "metadata": {
        "id": "SoRSV3HOtYC3"
      },
      "source": [
        "#Lendo o arquivo com os dados dos imóveis\n",
        "df = pd.read_csv(\"primary_data.csv\")"
      ],
      "execution_count": 187,
      "outputs": []
    },
    {
      "cell_type": "code",
      "metadata": {
        "colab": {
          "base_uri": "https://localhost:8080/"
        },
        "id": "a_U_u3CAuF1n",
        "outputId": "7e37a739-8762-4f22-b142-4e90ab6bf3bb"
      },
      "source": [
        "df.columns"
      ],
      "execution_count": 188,
      "outputs": [
        {
          "output_type": "execute_result",
          "data": {
            "text/plain": [
              "Index(['id', 'url', 'header', 'address', 'area', 'rooms', 'bathrooms',\n",
              "       'garages', 'price', 'condo', 'bairro', 'crawled_at', 'Academia',\n",
              "       'Aceita animais', 'Acesso para deficientes', 'Aquecimento',\n",
              "       'Ar-condicionado', 'Armário embutido', 'Armário embutido no quarto',\n",
              "       'Armário na cozinha', 'Armário no banheiro', 'Bicicletário',\n",
              "       'Box blindex', 'Cabeamento estruturado', 'Churrasqueira', 'Cinema',\n",
              "       'Circuito de segurança', 'Closet', 'Condomínio fechado',\n",
              "       'Conexão à internet', 'Copa', 'Coworking', 'Cozinha',\n",
              "       'Cozinha americana', 'Cozinha grande', 'Câmera de segurança',\n",
              "       'Depósito', 'Elevador', 'Escritório', 'Espaço gourmet', 'Espaço teen',\n",
              "       'Espaço verde / Parque', 'Espelhos d'água', 'Garage band', 'Garagem',\n",
              "       'Gerador elétrico', 'Gramado', 'Guarita', 'Gás Encanado', 'Interfone',\n",
              "       'Janela grande', 'Jardim', 'Lareira', 'Lavabo', 'Lavanderia',\n",
              "       'Mais de um andar', 'Mobiliado', 'Móvel planejado',\n",
              "       'Perto de vias de acesso', 'Piscina', 'Piscina coberta',\n",
              "       'Piscina infantil', 'Piscina para adulto', 'Piso frio',\n",
              "       'Pista de cooper', 'Playground', 'Portaria 24h', 'Portão eletrônico',\n",
              "       'Próximo a escola', 'Próximo a hospitais', 'Próximo a shopping',\n",
              "       'Próximo a transporte público', 'Quadra de squash', 'Quadra de tênis',\n",
              "       'Quadra poliesportiva', 'Quintal', 'Recepção', 'Sala de jantar',\n",
              "       'Sala de massagem', 'Salão de festas', 'Salão de jogos', 'Sauna',\n",
              "       'Segurança 24h', 'Serviços pay per use', 'Serviços públicos essenciais',\n",
              "       'Sistema de alarme', 'Spa', 'TV a cabo', 'Varanda',\n",
              "       'Varanda fechada com vidro', 'Varanda gourmet', 'Vigia',\n",
              "       'Vista para a montanha', 'Vista para o mar', 'Área de lazer',\n",
              "       'Área de serviço', 'estado', 'parse_bairro', 'lat', 'lon'],\n",
              "      dtype='object')"
            ]
          },
          "metadata": {},
          "execution_count": 188
        }
      ]
    },
    {
      "cell_type": "code",
      "metadata": {
        "colab": {
          "base_uri": "https://localhost:8080/",
          "height": 706
        },
        "id": "IoXMlbRMtyM6",
        "outputId": "9344403d-934a-44fe-8389-8d2008ddfb09"
      },
      "source": [
        "df.head(5)"
      ],
      "execution_count": 189,
      "outputs": [
        {
          "output_type": "execute_result",
          "data": {
            "text/html": [
              "<div>\n",
              "<style scoped>\n",
              "    .dataframe tbody tr th:only-of-type {\n",
              "        vertical-align: middle;\n",
              "    }\n",
              "\n",
              "    .dataframe tbody tr th {\n",
              "        vertical-align: top;\n",
              "    }\n",
              "\n",
              "    .dataframe thead th {\n",
              "        text-align: right;\n",
              "    }\n",
              "</style>\n",
              "<table border=\"1\" class=\"dataframe\">\n",
              "  <thead>\n",
              "    <tr style=\"text-align: right;\">\n",
              "      <th></th>\n",
              "      <th>id</th>\n",
              "      <th>url</th>\n",
              "      <th>header</th>\n",
              "      <th>address</th>\n",
              "      <th>area</th>\n",
              "      <th>rooms</th>\n",
              "      <th>bathrooms</th>\n",
              "      <th>garages</th>\n",
              "      <th>price</th>\n",
              "      <th>condo</th>\n",
              "      <th>bairro</th>\n",
              "      <th>crawled_at</th>\n",
              "      <th>Academia</th>\n",
              "      <th>Aceita animais</th>\n",
              "      <th>Acesso para deficientes</th>\n",
              "      <th>Aquecimento</th>\n",
              "      <th>Ar-condicionado</th>\n",
              "      <th>Armário embutido</th>\n",
              "      <th>Armário embutido no quarto</th>\n",
              "      <th>Armário na cozinha</th>\n",
              "      <th>Armário no banheiro</th>\n",
              "      <th>Bicicletário</th>\n",
              "      <th>Box blindex</th>\n",
              "      <th>Cabeamento estruturado</th>\n",
              "      <th>Churrasqueira</th>\n",
              "      <th>Cinema</th>\n",
              "      <th>Circuito de segurança</th>\n",
              "      <th>Closet</th>\n",
              "      <th>Condomínio fechado</th>\n",
              "      <th>Conexão à internet</th>\n",
              "      <th>Copa</th>\n",
              "      <th>Coworking</th>\n",
              "      <th>Cozinha</th>\n",
              "      <th>Cozinha americana</th>\n",
              "      <th>Cozinha grande</th>\n",
              "      <th>Câmera de segurança</th>\n",
              "      <th>Depósito</th>\n",
              "      <th>Elevador</th>\n",
              "      <th>Escritório</th>\n",
              "      <th>Espaço gourmet</th>\n",
              "      <th>...</th>\n",
              "      <th>Piscina coberta</th>\n",
              "      <th>Piscina infantil</th>\n",
              "      <th>Piscina para adulto</th>\n",
              "      <th>Piso frio</th>\n",
              "      <th>Pista de cooper</th>\n",
              "      <th>Playground</th>\n",
              "      <th>Portaria 24h</th>\n",
              "      <th>Portão eletrônico</th>\n",
              "      <th>Próximo a escola</th>\n",
              "      <th>Próximo a hospitais</th>\n",
              "      <th>Próximo a shopping</th>\n",
              "      <th>Próximo a transporte público</th>\n",
              "      <th>Quadra de squash</th>\n",
              "      <th>Quadra de tênis</th>\n",
              "      <th>Quadra poliesportiva</th>\n",
              "      <th>Quintal</th>\n",
              "      <th>Recepção</th>\n",
              "      <th>Sala de jantar</th>\n",
              "      <th>Sala de massagem</th>\n",
              "      <th>Salão de festas</th>\n",
              "      <th>Salão de jogos</th>\n",
              "      <th>Sauna</th>\n",
              "      <th>Segurança 24h</th>\n",
              "      <th>Serviços pay per use</th>\n",
              "      <th>Serviços públicos essenciais</th>\n",
              "      <th>Sistema de alarme</th>\n",
              "      <th>Spa</th>\n",
              "      <th>TV a cabo</th>\n",
              "      <th>Varanda</th>\n",
              "      <th>Varanda fechada com vidro</th>\n",
              "      <th>Varanda gourmet</th>\n",
              "      <th>Vigia</th>\n",
              "      <th>Vista para a montanha</th>\n",
              "      <th>Vista para o mar</th>\n",
              "      <th>Área de lazer</th>\n",
              "      <th>Área de serviço</th>\n",
              "      <th>estado</th>\n",
              "      <th>parse_bairro</th>\n",
              "      <th>lat</th>\n",
              "      <th>lon</th>\n",
              "    </tr>\n",
              "  </thead>\n",
              "  <tbody>\n",
              "    <tr>\n",
              "      <th>0</th>\n",
              "      <td>2472650173</td>\n",
              "      <td>https://www.vivareal.com.br/imovel/apartamento...</td>\n",
              "      <td>Apartamento com 2 Quartos à Venda, 64m²</td>\n",
              "      <td>Avenida Portugal, 401 - Brooklin, São Paulo - SP</td>\n",
              "      <td>64</td>\n",
              "      <td>2</td>\n",
              "      <td>2</td>\n",
              "      <td>1</td>\n",
              "      <td>715000</td>\n",
              "      <td>778.0</td>\n",
              "      <td>brooklin</td>\n",
              "      <td>2021-06-10 16:17:00</td>\n",
              "      <td>0</td>\n",
              "      <td>0</td>\n",
              "      <td>0</td>\n",
              "      <td>0</td>\n",
              "      <td>1</td>\n",
              "      <td>0</td>\n",
              "      <td>0</td>\n",
              "      <td>0</td>\n",
              "      <td>0</td>\n",
              "      <td>0</td>\n",
              "      <td>0</td>\n",
              "      <td>0</td>\n",
              "      <td>0</td>\n",
              "      <td>0</td>\n",
              "      <td>0</td>\n",
              "      <td>0</td>\n",
              "      <td>0</td>\n",
              "      <td>0</td>\n",
              "      <td>0</td>\n",
              "      <td>0</td>\n",
              "      <td>0</td>\n",
              "      <td>0</td>\n",
              "      <td>0</td>\n",
              "      <td>0</td>\n",
              "      <td>0</td>\n",
              "      <td>1</td>\n",
              "      <td>0</td>\n",
              "      <td>0</td>\n",
              "      <td>...</td>\n",
              "      <td>0</td>\n",
              "      <td>0</td>\n",
              "      <td>0</td>\n",
              "      <td>0</td>\n",
              "      <td>0</td>\n",
              "      <td>1</td>\n",
              "      <td>0</td>\n",
              "      <td>0</td>\n",
              "      <td>0</td>\n",
              "      <td>0</td>\n",
              "      <td>0</td>\n",
              "      <td>0</td>\n",
              "      <td>0</td>\n",
              "      <td>0</td>\n",
              "      <td>0</td>\n",
              "      <td>0</td>\n",
              "      <td>0</td>\n",
              "      <td>0</td>\n",
              "      <td>0</td>\n",
              "      <td>1</td>\n",
              "      <td>0</td>\n",
              "      <td>0</td>\n",
              "      <td>0</td>\n",
              "      <td>0</td>\n",
              "      <td>0</td>\n",
              "      <td>0</td>\n",
              "      <td>0</td>\n",
              "      <td>0</td>\n",
              "      <td>0</td>\n",
              "      <td>0</td>\n",
              "      <td>0</td>\n",
              "      <td>0</td>\n",
              "      <td>0</td>\n",
              "      <td>0</td>\n",
              "      <td>0</td>\n",
              "      <td>0</td>\n",
              "      <td>SP</td>\n",
              "      <td>brooklin</td>\n",
              "      <td>-23.612983</td>\n",
              "      <td>-46.679550</td>\n",
              "    </tr>\n",
              "    <tr>\n",
              "      <th>1</th>\n",
              "      <td>2510654835</td>\n",
              "      <td>https://www.vivareal.com.br/imovel/apartamento...</td>\n",
              "      <td>Apartamento com 3 Quartos à Venda, 170m²</td>\n",
              "      <td>Rua Pensilvânia, 742 - Brooklin, São Paulo - SP</td>\n",
              "      <td>170</td>\n",
              "      <td>3</td>\n",
              "      <td>5</td>\n",
              "      <td>3</td>\n",
              "      <td>2050000</td>\n",
              "      <td>2323.0</td>\n",
              "      <td>brooklin</td>\n",
              "      <td>2021-06-10 16:17:00</td>\n",
              "      <td>1</td>\n",
              "      <td>0</td>\n",
              "      <td>0</td>\n",
              "      <td>0</td>\n",
              "      <td>0</td>\n",
              "      <td>0</td>\n",
              "      <td>0</td>\n",
              "      <td>0</td>\n",
              "      <td>0</td>\n",
              "      <td>0</td>\n",
              "      <td>0</td>\n",
              "      <td>0</td>\n",
              "      <td>0</td>\n",
              "      <td>0</td>\n",
              "      <td>0</td>\n",
              "      <td>0</td>\n",
              "      <td>0</td>\n",
              "      <td>0</td>\n",
              "      <td>0</td>\n",
              "      <td>0</td>\n",
              "      <td>0</td>\n",
              "      <td>0</td>\n",
              "      <td>0</td>\n",
              "      <td>0</td>\n",
              "      <td>0</td>\n",
              "      <td>1</td>\n",
              "      <td>0</td>\n",
              "      <td>0</td>\n",
              "      <td>...</td>\n",
              "      <td>0</td>\n",
              "      <td>0</td>\n",
              "      <td>0</td>\n",
              "      <td>0</td>\n",
              "      <td>0</td>\n",
              "      <td>0</td>\n",
              "      <td>0</td>\n",
              "      <td>0</td>\n",
              "      <td>0</td>\n",
              "      <td>0</td>\n",
              "      <td>0</td>\n",
              "      <td>0</td>\n",
              "      <td>0</td>\n",
              "      <td>0</td>\n",
              "      <td>0</td>\n",
              "      <td>0</td>\n",
              "      <td>0</td>\n",
              "      <td>0</td>\n",
              "      <td>0</td>\n",
              "      <td>0</td>\n",
              "      <td>0</td>\n",
              "      <td>0</td>\n",
              "      <td>0</td>\n",
              "      <td>0</td>\n",
              "      <td>0</td>\n",
              "      <td>0</td>\n",
              "      <td>0</td>\n",
              "      <td>0</td>\n",
              "      <td>0</td>\n",
              "      <td>0</td>\n",
              "      <td>1</td>\n",
              "      <td>0</td>\n",
              "      <td>0</td>\n",
              "      <td>0</td>\n",
              "      <td>0</td>\n",
              "      <td>0</td>\n",
              "      <td>SP</td>\n",
              "      <td>brooklin</td>\n",
              "      <td>-23.612118</td>\n",
              "      <td>-46.685606</td>\n",
              "    </tr>\n",
              "    <tr>\n",
              "      <th>2</th>\n",
              "      <td>2511557601</td>\n",
              "      <td>https://www.vivareal.com.br/imovel/apartamento...</td>\n",
              "      <td>Apartamento com 3 Quartos à Venda, 218m²</td>\n",
              "      <td>Rua Laplace, 44 - Brooklin, São Paulo - SP</td>\n",
              "      <td>218</td>\n",
              "      <td>3</td>\n",
              "      <td>5</td>\n",
              "      <td>4</td>\n",
              "      <td>2520000</td>\n",
              "      <td>2800.0</td>\n",
              "      <td>brooklin</td>\n",
              "      <td>2021-06-10 16:17:00</td>\n",
              "      <td>1</td>\n",
              "      <td>0</td>\n",
              "      <td>0</td>\n",
              "      <td>0</td>\n",
              "      <td>0</td>\n",
              "      <td>0</td>\n",
              "      <td>0</td>\n",
              "      <td>0</td>\n",
              "      <td>0</td>\n",
              "      <td>0</td>\n",
              "      <td>0</td>\n",
              "      <td>0</td>\n",
              "      <td>1</td>\n",
              "      <td>0</td>\n",
              "      <td>0</td>\n",
              "      <td>0</td>\n",
              "      <td>0</td>\n",
              "      <td>0</td>\n",
              "      <td>0</td>\n",
              "      <td>0</td>\n",
              "      <td>0</td>\n",
              "      <td>0</td>\n",
              "      <td>0</td>\n",
              "      <td>0</td>\n",
              "      <td>0</td>\n",
              "      <td>0</td>\n",
              "      <td>0</td>\n",
              "      <td>0</td>\n",
              "      <td>...</td>\n",
              "      <td>0</td>\n",
              "      <td>0</td>\n",
              "      <td>0</td>\n",
              "      <td>0</td>\n",
              "      <td>0</td>\n",
              "      <td>0</td>\n",
              "      <td>0</td>\n",
              "      <td>0</td>\n",
              "      <td>0</td>\n",
              "      <td>0</td>\n",
              "      <td>0</td>\n",
              "      <td>0</td>\n",
              "      <td>0</td>\n",
              "      <td>0</td>\n",
              "      <td>0</td>\n",
              "      <td>0</td>\n",
              "      <td>0</td>\n",
              "      <td>0</td>\n",
              "      <td>0</td>\n",
              "      <td>0</td>\n",
              "      <td>0</td>\n",
              "      <td>0</td>\n",
              "      <td>0</td>\n",
              "      <td>0</td>\n",
              "      <td>0</td>\n",
              "      <td>0</td>\n",
              "      <td>0</td>\n",
              "      <td>0</td>\n",
              "      <td>1</td>\n",
              "      <td>0</td>\n",
              "      <td>1</td>\n",
              "      <td>0</td>\n",
              "      <td>0</td>\n",
              "      <td>0</td>\n",
              "      <td>0</td>\n",
              "      <td>0</td>\n",
              "      <td>SP</td>\n",
              "      <td>brooklin</td>\n",
              "      <td>-23.624983</td>\n",
              "      <td>-46.685161</td>\n",
              "    </tr>\n",
              "    <tr>\n",
              "      <th>3</th>\n",
              "      <td>2522220295</td>\n",
              "      <td>https://www.vivareal.com.br/imovel/apartamento...</td>\n",
              "      <td>Apartamento com 3 Quartos à Venda, 116m²</td>\n",
              "      <td>Rua Arandu, 660 - Brooklin, São Paulo - SP</td>\n",
              "      <td>116</td>\n",
              "      <td>3</td>\n",
              "      <td>3</td>\n",
              "      <td>0</td>\n",
              "      <td>1450000</td>\n",
              "      <td>1600.0</td>\n",
              "      <td>brooklin</td>\n",
              "      <td>2021-06-10 16:17:00</td>\n",
              "      <td>1</td>\n",
              "      <td>0</td>\n",
              "      <td>0</td>\n",
              "      <td>0</td>\n",
              "      <td>0</td>\n",
              "      <td>0</td>\n",
              "      <td>0</td>\n",
              "      <td>0</td>\n",
              "      <td>0</td>\n",
              "      <td>0</td>\n",
              "      <td>0</td>\n",
              "      <td>0</td>\n",
              "      <td>0</td>\n",
              "      <td>0</td>\n",
              "      <td>0</td>\n",
              "      <td>0</td>\n",
              "      <td>0</td>\n",
              "      <td>0</td>\n",
              "      <td>0</td>\n",
              "      <td>0</td>\n",
              "      <td>0</td>\n",
              "      <td>0</td>\n",
              "      <td>0</td>\n",
              "      <td>0</td>\n",
              "      <td>0</td>\n",
              "      <td>1</td>\n",
              "      <td>0</td>\n",
              "      <td>0</td>\n",
              "      <td>...</td>\n",
              "      <td>0</td>\n",
              "      <td>0</td>\n",
              "      <td>0</td>\n",
              "      <td>0</td>\n",
              "      <td>0</td>\n",
              "      <td>0</td>\n",
              "      <td>0</td>\n",
              "      <td>0</td>\n",
              "      <td>0</td>\n",
              "      <td>0</td>\n",
              "      <td>0</td>\n",
              "      <td>0</td>\n",
              "      <td>0</td>\n",
              "      <td>0</td>\n",
              "      <td>1</td>\n",
              "      <td>0</td>\n",
              "      <td>0</td>\n",
              "      <td>0</td>\n",
              "      <td>0</td>\n",
              "      <td>0</td>\n",
              "      <td>0</td>\n",
              "      <td>0</td>\n",
              "      <td>0</td>\n",
              "      <td>0</td>\n",
              "      <td>0</td>\n",
              "      <td>0</td>\n",
              "      <td>0</td>\n",
              "      <td>0</td>\n",
              "      <td>0</td>\n",
              "      <td>0</td>\n",
              "      <td>0</td>\n",
              "      <td>0</td>\n",
              "      <td>0</td>\n",
              "      <td>0</td>\n",
              "      <td>0</td>\n",
              "      <td>0</td>\n",
              "      <td>SP</td>\n",
              "      <td>brooklin</td>\n",
              "      <td>-23.606832</td>\n",
              "      <td>-46.690248</td>\n",
              "    </tr>\n",
              "    <tr>\n",
              "      <th>4</th>\n",
              "      <td>2516069997</td>\n",
              "      <td>https://www.vivareal.com.br/imovel/apartamento...</td>\n",
              "      <td>Apartamento com 4 Quartos à Venda, 250m²</td>\n",
              "      <td>Rua Flórida, 320 - Brooklin, São Paulo - SP</td>\n",
              "      <td>250</td>\n",
              "      <td>4</td>\n",
              "      <td>6</td>\n",
              "      <td>4</td>\n",
              "      <td>4200000</td>\n",
              "      <td>2500.0</td>\n",
              "      <td>brooklin</td>\n",
              "      <td>2021-06-10 16:17:00</td>\n",
              "      <td>1</td>\n",
              "      <td>0</td>\n",
              "      <td>0</td>\n",
              "      <td>0</td>\n",
              "      <td>0</td>\n",
              "      <td>0</td>\n",
              "      <td>0</td>\n",
              "      <td>0</td>\n",
              "      <td>0</td>\n",
              "      <td>0</td>\n",
              "      <td>0</td>\n",
              "      <td>0</td>\n",
              "      <td>0</td>\n",
              "      <td>0</td>\n",
              "      <td>0</td>\n",
              "      <td>0</td>\n",
              "      <td>0</td>\n",
              "      <td>0</td>\n",
              "      <td>0</td>\n",
              "      <td>0</td>\n",
              "      <td>0</td>\n",
              "      <td>0</td>\n",
              "      <td>0</td>\n",
              "      <td>0</td>\n",
              "      <td>0</td>\n",
              "      <td>0</td>\n",
              "      <td>0</td>\n",
              "      <td>1</td>\n",
              "      <td>...</td>\n",
              "      <td>0</td>\n",
              "      <td>0</td>\n",
              "      <td>0</td>\n",
              "      <td>0</td>\n",
              "      <td>0</td>\n",
              "      <td>0</td>\n",
              "      <td>0</td>\n",
              "      <td>0</td>\n",
              "      <td>0</td>\n",
              "      <td>0</td>\n",
              "      <td>0</td>\n",
              "      <td>0</td>\n",
              "      <td>0</td>\n",
              "      <td>0</td>\n",
              "      <td>0</td>\n",
              "      <td>0</td>\n",
              "      <td>0</td>\n",
              "      <td>0</td>\n",
              "      <td>0</td>\n",
              "      <td>0</td>\n",
              "      <td>0</td>\n",
              "      <td>0</td>\n",
              "      <td>0</td>\n",
              "      <td>0</td>\n",
              "      <td>0</td>\n",
              "      <td>0</td>\n",
              "      <td>0</td>\n",
              "      <td>0</td>\n",
              "      <td>0</td>\n",
              "      <td>0</td>\n",
              "      <td>1</td>\n",
              "      <td>0</td>\n",
              "      <td>0</td>\n",
              "      <td>0</td>\n",
              "      <td>0</td>\n",
              "      <td>0</td>\n",
              "      <td>SP</td>\n",
              "      <td>brooklin</td>\n",
              "      <td>-23.615230</td>\n",
              "      <td>-46.683582</td>\n",
              "    </tr>\n",
              "  </tbody>\n",
              "</table>\n",
              "<p>5 rows × 100 columns</p>\n",
              "</div>"
            ],
            "text/plain": [
              "           id  ...        lon\n",
              "0  2472650173  ... -46.679550\n",
              "1  2510654835  ... -46.685606\n",
              "2  2511557601  ... -46.685161\n",
              "3  2522220295  ... -46.690248\n",
              "4  2516069997  ... -46.683582\n",
              "\n",
              "[5 rows x 100 columns]"
            ]
          },
          "metadata": {},
          "execution_count": 189
        }
      ]
    },
    {
      "cell_type": "markdown",
      "metadata": {
        "id": "uZKDMAuBtrGX"
      },
      "source": [
        "# Criando uma função para cortar os dados outliers utilizando o IQR ou percentil"
      ]
    },
    {
      "cell_type": "code",
      "metadata": {
        "id": "TenOAVtmsd33"
      },
      "source": [
        "#Função remove outliers com base no percentil\n",
        "def remove_outliers_percentis(data, bairro, coluna, lower_percentile = 0, max_percentile = .99):\n",
        "  #Pegando qual é a faixa mínina e máxima dos meus dados de acordo com o percentil definido\n",
        "  lb, ub = data.loc[data[\"bairro\"] == bairro, coluna].quantile([lower_percentile, max_percentile])\n",
        "  #Somando a quantidade de elementos não nulos antes da remoção\n",
        "  len_before = sum(~data.loc[data[\"bairro\"]== bairro, coluna].isnull())\n",
        "  \n",
        "  #Removendo os dados\n",
        "  data.loc[(data[\"bairro\"] == bairro) & (~data[coluna].between(lb, ub)), coluna] = np.nan\n",
        "  \n",
        "  #Somando a quantidade de elementos não nulos depois da remoção\n",
        "  len_after = sum(~data.loc[data[\"bairro\"] == bairro, coluna].isnull())\n",
        "  \n",
        "  #Printando os resultados\n",
        "  print(f\"Lower Bound: {lb} e Upper Bound: {ub}\")\n",
        "  print(f\"Removidos por percentil {round((1-len_after/len_before)*100,5)}% dos dados\\n\")\n",
        "  return data"
      ],
      "execution_count": 190,
      "outputs": []
    },
    {
      "cell_type": "code",
      "metadata": {
        "id": "LyYaS-iEPwMU"
      },
      "source": [
        "#Função remove outliers pelo IQR\n",
        "def remove_outliers(data, bairro, coluna, max_removidos = .05):\n",
        "  #Pegando o meu segundo e terceiro quartil\n",
        "  q1, q3 = data.loc[data[\"bairro\"] == bairro, coluna].quantile([0.25, 0.75])\n",
        "  #calculando o IQR\n",
        "  iqr = q3 - q1\n",
        "  #Calculando o meu lower bound (Limite inferior)\n",
        "  lb = max(q1 - 1.5*iqr,0)\n",
        "  #Calculando o meu upper bound (Limite Superior)\n",
        "  ub = q3 + 1.5*iqr\n",
        "    \n",
        "  #Somando a quantidade de dados nulos na minha base\n",
        "  len_before = sum(~data.loc[data[\"bairro\"] == bairro, coluna].isnull())\n",
        "  #Somando a quantidade de dados nulos na minha base\n",
        "  len_after = len(data.loc[(data[\"bairro\"] == bairro) & (data[coluna].between(lb,ub)), coluna])\n",
        "  #Calculando a porcentagem removida\n",
        "  removidos = 1-(len_after/len_before)\n",
        "  \n",
        "  #Validando se o que será removido é menor que o percentual máximo definido\n",
        "  if removidos < max_removidos:\n",
        "    print(f\"Lower bound: {lb}, Upper bound: {ub}\")\n",
        "    print(f\"{bairro} removidos por IQR: {round(removidos*100,5)}%\\n\")\n",
        "    #Definindo como null os meus dados que estão fora do meu limite inferior e superior\n",
        "    data.loc[(data[\"bairro\"]==bairro) & (~data[coluna].between(lb, ub)), coluna] = np.nan\n",
        "  else:\n",
        "    print(f\"{bairro}: a remoção por IQR seria {round(removidos*100,3)}%\")\n",
        "    data = remove_outliers_percentis(data, bairro, coluna, lower_percentile = 0, max_percentile = (1-max_removidos))\n",
        "  return data"
      ],
      "execution_count": 191,
      "outputs": []
    },
    {
      "cell_type": "markdown",
      "metadata": {
        "id": "161j5Vk_cZY0"
      },
      "source": [
        "# Ajustando os imóveis com áreas outliers"
      ]
    },
    {
      "cell_type": "code",
      "metadata": {
        "colab": {
          "base_uri": "https://localhost:8080/",
          "height": 412
        },
        "id": "Q6nCamlga-eb",
        "outputId": "300216ae-1a57-479c-d17f-ecb6e72ab55c"
      },
      "source": [
        "plt.figure(figsize=(10,5))\n",
        "sns.boxplot(data=df[[\"bairro\", \"area\"]], y=\"area\", x=\"bairro\")\n",
        "plt.xticks(rotation = 45)"
      ],
      "execution_count": 192,
      "outputs": [
        {
          "output_type": "execute_result",
          "data": {
            "text/plain": [
              "(array([ 0,  1,  2,  3,  4,  5,  6,  7,  8,  9, 10, 11, 12, 13, 14, 15, 16,\n",
              "        17]), <a list of 18 Text major ticklabel objects>)"
            ]
          },
          "metadata": {},
          "execution_count": 192
        },
        {
          "output_type": "display_data",
          "data": {
            "image/png": "[encoded data removed]",
            "text/plain": [
              "<Figure size 720x360 with 1 Axes>"
            ]
          },
          "metadata": {
            "needs_background": "light"
          }
        }
      ]
    },
    {
      "cell_type": "code",
      "metadata": {
        "colab": {
          "base_uri": "https://localhost:8080/"
        },
        "id": "d8gWP2Qstqr3",
        "outputId": "8e72ed74-a27e-4d6e-b50a-afb1e769498f"
      },
      "source": [
        "for bairro in df[\"bairro\"].unique():\n",
        "  df = remove_outliers(df, bairro, \"area\", max_removidos=.05)"
      ],
      "execution_count": 193,
      "outputs": [
        {
          "output_type": "stream",
          "name": "stdout",
          "text": [
            "Lower bound: 0, Upper bound: 286.5\n",
            "brooklin removidos por IQR: 0.48721%\n",
            "\n",
            "butanta: a remoção por IQR seria 7.015%\n",
            "Lower Bound: 24.0 e Upper Bound: 132.0\n",
            "Removidos por percentil 4.99405% dos dados\n",
            "\n",
            "republica: a remoção por IQR seria 7.78%\n",
            "Lower Bound: 13.0 e Upper Bound: 205.24999999999864\n",
            "Removidos por percentil 5.03432% dos dados\n",
            "\n",
            "bras: a remoção por IQR seria 5.882%\n",
            "Lower Bound: 19.0 e Upper Bound: 121.0\n",
            "Removidos por percentil 4.38293% dos dados\n",
            "\n",
            "fregesia do o: a remoção por IQR seria 6.349%\n",
            "Lower Bound: 25.0 e Upper Bound: 127.94999999999993\n",
            "Removidos por percentil 5.10204% dos dados\n",
            "\n",
            "Lower bound: 0, Upper bound: 432.75\n",
            "higienopolis removidos por IQR: 3.44828%\n",
            "\n",
            "Lower bound: 0, Upper bound: 334.0\n",
            "jardins removidos por IQR: 4.96815%\n",
            "\n",
            "Lower bound: 0, Upper bound: 176.75\n",
            "lapa removidos por IQR: 2.83871%\n",
            "\n",
            "Lower bound: 0, Upper bound: 323.0\n",
            "moema removidos por IQR: 2.73438%\n",
            "\n",
            "Lower bound: 0, Upper bound: 190.0\n",
            "mooca removidos por IQR: 4.92676%\n",
            "\n",
            "Lower bound: 0, Upper bound: 250.0\n",
            "morumbi removidos por IQR: 4.5045%\n",
            "\n",
            "Lower bound: 0, Upper bound: 229.5\n",
            "pinheiros removidos por IQR: 3.46062%\n",
            "\n",
            "Lower bound: 0, Upper bound: 269.5\n",
            "santana removidos por IQR: 3.32951%\n",
            "\n",
            "saude: a remoção por IQR seria 6.355%\n",
            "Lower Bound: 23.0 e Upper Bound: 140.0\n",
            "Removidos por percentil 4.68227% dos dados\n",
            "\n",
            "vila mariana: a remoção por IQR seria 5.369%\n",
            "Lower Bound: 19.0 e Upper Bound: 229.4999999999991\n",
            "Removidos por percentil 5.03356% dos dados\n",
            "\n",
            "vila matilde: a remoção por IQR seria 6.134%\n",
            "Lower Bound: 26.0 e Upper Bound: 107.39999999999998\n",
            "Removidos por percentil 5.03834% dos dados\n",
            "\n",
            "campo limpo: a remoção por IQR seria 5.149%\n",
            "Lower Bound: 31.0 e Upper Bound: 79.0\n",
            "Removidos por percentil 4.91991% dos dados\n",
            "\n",
            "Lower bound: 0, Upper bound: 144.5\n",
            "tucuruvi removidos por IQR: 2.32044%\n",
            "\n"
          ]
        }
      ]
    },
    {
      "cell_type": "code",
      "metadata": {
        "colab": {
          "base_uri": "https://localhost:8080/",
          "height": 412
        },
        "id": "QmJ1xdEycXRN",
        "outputId": "2b522d1d-b967-4c4b-db35-ef71261826b3"
      },
      "source": [
        "plt.figure(figsize=(10,5))\n",
        "sns.boxplot(data=df[[\"bairro\", \"area\"]], y=\"area\", x=\"bairro\")\n",
        "plt.xticks(rotation = 45)"
      ],
      "execution_count": 194,
      "outputs": [
        {
          "output_type": "execute_result",
          "data": {
            "text/plain": [
              "(array([ 0,  1,  2,  3,  4,  5,  6,  7,  8,  9, 10, 11, 12, 13, 14, 15, 16,\n",
              "        17]), <a list of 18 Text major ticklabel objects>)"
            ]
          },
          "metadata": {},
          "execution_count": 194
        },
        {
          "output_type": "display_data",
          "data": {
            "image/png": "[encoded data removed]",
            "text/plain": [
              "<Figure size 720x360 with 1 Axes>"
            ]
          },
          "metadata": {
            "needs_background": "light"
          }
        }
      ]
    },
    {
      "cell_type": "markdown",
      "metadata": {
        "id": "h3MfdqVbczKo"
      },
      "source": [
        "#Limpando os imóveis com Room outliers"
      ]
    },
    {
      "cell_type": "code",
      "metadata": {
        "colab": {
          "base_uri": "https://localhost:8080/"
        },
        "id": "dtGkIEv7cq-U",
        "outputId": "ca6c23b8-2db3-4b24-fbe5-bf1c95e23163"
      },
      "source": [
        "#Estou verificando quantos % representam dos meus dados os imóveis com até 6 quartos\n",
        "df[\"rooms\"].value_counts(normalize=True)[:6].sum()"
      ],
      "execution_count": 104,
      "outputs": [
        {
          "output_type": "execute_result",
          "data": {
            "text/plain": [
              "1.0"
            ]
          },
          "metadata": {},
          "execution_count": 104
        }
      ]
    },
    {
      "cell_type": "code",
      "metadata": {
        "id": "RdfGTNIheIAc"
      },
      "source": [
        "#Removendo os imóveis com número de quartos outliers\n",
        "df.loc[df[\"rooms\"] > 6, \"rooms\"] = np.nan"
      ],
      "execution_count": 92,
      "outputs": []
    },
    {
      "cell_type": "markdown",
      "metadata": {
        "id": "T-agk1w6c_0t"
      },
      "source": [
        "#Limpando os imóveis com Bathroom outliers"
      ]
    },
    {
      "cell_type": "code",
      "metadata": {
        "colab": {
          "base_uri": "https://localhost:8080/"
        },
        "id": "UUXbHA8SdB5P",
        "outputId": "e49ef987-6abd-4849-8e3f-23ef6dfa53dc"
      },
      "source": [
        "#Estou verificando quantos % representam dos meus dados os imóveis com até 8 banheiros\n",
        "df[\"bathrooms\"].value_counts(normalize=True)[:8].sum()"
      ],
      "execution_count": 102,
      "outputs": [
        {
          "output_type": "execute_result",
          "data": {
            "text/plain": [
              "0.9999343961162501"
            ]
          },
          "metadata": {},
          "execution_count": 102
        }
      ]
    },
    {
      "cell_type": "code",
      "metadata": {
        "id": "v2buYHNkeukM"
      },
      "source": [
        "#Removendo os imóveis com número de banheiros outliers\n",
        "df.loc[df[\"bathrooms\"] > 8, \"bathrooms\"] = np.nan"
      ],
      "execution_count": 93,
      "outputs": []
    },
    {
      "cell_type": "markdown",
      "metadata": {
        "id": "ofgshgSPdCR_"
      },
      "source": [
        "#Limpando os imóveis com Garages outliers"
      ]
    },
    {
      "cell_type": "code",
      "metadata": {
        "colab": {
          "base_uri": "https://localhost:8080/"
        },
        "id": "UJBbkn9jdEjU",
        "outputId": "288e6ac7-39d5-403b-f81c-2adc7fd86e98"
      },
      "source": [
        "#Estou verificando quantos % representam dos meus dados os imóveis com até 6 garagens\n",
        "df[\"garages\"].value_counts(normalize=True)[:7].sum()"
      ],
      "execution_count": 108,
      "outputs": [
        {
          "output_type": "execute_result",
          "data": {
            "text/plain": [
              "0.997836916622968"
            ]
          },
          "metadata": {},
          "execution_count": 108
        }
      ]
    },
    {
      "cell_type": "code",
      "metadata": {
        "id": "UplsTEbJe7_M"
      },
      "source": [
        "#Removendo os imóveis com número de garagens outliers\n",
        "df.loc[df[\"garages\"] > 6, \"garages\"] = np.nan"
      ],
      "execution_count": 109,
      "outputs": []
    },
    {
      "cell_type": "markdown",
      "metadata": {
        "id": "Wbnc1xXCf5kD"
      },
      "source": [
        "#Limpando os imóveis com preços outliers"
      ]
    },
    {
      "cell_type": "code",
      "metadata": {
        "colab": {
          "base_uri": "https://localhost:8080/",
          "height": 423
        },
        "id": "_AJaYxOjf90Q",
        "outputId": "e9b60348-6e82-44d6-d5df-b88d39ba2020"
      },
      "source": [
        "#Plotando um boxplot de preço por bairro\n",
        "plt.figure(figsize=(10,5))\n",
        "sns.boxplot(data=df[[\"bairro\", \"price\"]], y=\"price\", x=\"bairro\")\n",
        "plt.xticks(rotation=45)"
      ],
      "execution_count": 195,
      "outputs": [
        {
          "output_type": "execute_result",
          "data": {
            "text/plain": [
              "(array([ 0,  1,  2,  3,  4,  5,  6,  7,  8,  9, 10, 11, 12, 13, 14, 15, 16,\n",
              "        17]), <a list of 18 Text major ticklabel objects>)"
            ]
          },
          "metadata": {},
          "execution_count": 195
        },
        {
          "output_type": "display_data",
          "data": {
            "image/png": "[encoded data removed]",
            "text/plain": [
              "<Figure size 720x360 with 1 Axes>"
            ]
          },
          "metadata": {
            "needs_background": "light"
          }
        }
      ]
    },
    {
      "cell_type": "code",
      "metadata": {
        "colab": {
          "base_uri": "https://localhost:8080/"
        },
        "id": "KVCcGUtfgZi0",
        "outputId": "cf4c4d9d-6b63-410b-fc1e-a9888348ea75"
      },
      "source": [
        "#Removendo os preços outliers\n",
        "for bairro in df[\"bairro\"].unique():\n",
        "  df = remove_outliers(df, bairro, \"price\")"
      ],
      "execution_count": 196,
      "outputs": [
        {
          "output_type": "stream",
          "name": "stdout",
          "text": [
            "Lower bound: 0, Upper bound: 3425600.0\n",
            "brooklin removidos por IQR: 2.67966%\n",
            "\n",
            "butanta: a remoção por IQR seria 5.945%\n",
            "Lower Bound: 147100.0 e Upper Bound: 1030000.0\n",
            "Removidos por percentil 4.99405% dos dados\n",
            "\n",
            "republica: a remoção por IQR seria 10.755%\n",
            "Lower Bound: 99000.0 e Upper Bound: 1500000.0\n",
            "Removidos por percentil 4.91991% dos dados\n",
            "\n",
            "Lower bound: 0, Upper bound: 920250.0\n",
            "bras removidos por IQR: 0.5767%\n",
            "\n",
            "fregesia do o: a remoção por IQR seria 6.463%\n",
            "Lower Bound: 111111.0 e Upper Bound: 1098479.999999998\n",
            "Removidos por percentil 5.10204% dos dados\n",
            "\n",
            "higienopolis: a remoção por IQR seria 8.251%\n",
            "Lower Bound: 273002.0 e Upper Bound: 6067499.99999999\n",
            "Removidos por percentil 5.04926% dos dados\n",
            "\n",
            "jardins: a remoção por IQR seria 8.662%\n",
            "Lower Bound: 190000.0 e Upper Bound: 6814399.999999999\n",
            "Removidos por percentil 5.09554% dos dados\n",
            "\n",
            "Lower bound: 0, Upper bound: 1930000.0\n",
            "lapa removidos por IQR: 2.58065%\n",
            "\n",
            "moema: a remoção por IQR seria 6.51%\n",
            "Lower Bound: 175000.0 e Upper Bound: 5740999.999999996\n",
            "Removidos por percentil 5.07812% dos dados\n",
            "\n",
            "Lower bound: 0, Upper bound: 1620075.0\n",
            "mooca removidos por IQR: 4.92676%\n",
            "\n",
            "morumbi: a remoção por IQR seria 6.306%\n",
            "Lower Bound: 146800.0 e Upper Bound: 1782499.9999999988\n",
            "Removidos por percentil 5.06757% dos dados\n",
            "\n",
            "Lower bound: 0, Upper bound: 3279687.5\n",
            "pinheiros removidos por IQR: 4.05728%\n",
            "\n",
            "santana: a remoção por IQR seria 8.381%\n",
            "Lower Bound: 130000.0 e Upper Bound: 2699500.0\n",
            "Removidos por percentil 5.05166% dos dados\n",
            "\n",
            "Lower bound: 0, Upper bound: 1367500.0\n",
            "saude removidos por IQR: 4.01338%\n",
            "\n",
            "vila mariana: a remoção por IQR seria 9.172%\n",
            "Lower Bound: 165000.0 e Upper Bound: 2966799.9999999953\n",
            "Removidos por percentil 5.03356% dos dados\n",
            "\n",
            "Lower bound: 5000.0, Upper bound: 749000.0\n",
            "vila matilde removidos por IQR: 3.28587%\n",
            "\n",
            "campo limpo: a remoção por IQR seria 7.323%\n",
            "Lower Bound: 151500.0 e Upper Bound: 551749.9999999995\n",
            "Removidos por percentil 5.03432% dos dados\n",
            "\n",
            "Lower bound: 0, Upper bound: 1100000.0\n",
            "tucuruvi removidos por IQR: 1.76796%\n",
            "\n"
          ]
        }
      ]
    },
    {
      "cell_type": "code",
      "metadata": {
        "colab": {
          "base_uri": "https://localhost:8080/",
          "height": 423
        },
        "id": "YefCxCgWginb",
        "outputId": "b971ca6d-d2bb-4924-a06e-929a4b651420"
      },
      "source": [
        "plt.figure(figsize=(10,5))\n",
        "sns.boxplot(data=df[[\"bairro\", \"price\"]], y=\"price\", x=\"bairro\")\n",
        "plt.xticks(rotation=45)"
      ],
      "execution_count": 197,
      "outputs": [
        {
          "output_type": "execute_result",
          "data": {
            "text/plain": [
              "(array([ 0,  1,  2,  3,  4,  5,  6,  7,  8,  9, 10, 11, 12, 13, 14, 15, 16,\n",
              "        17]), <a list of 18 Text major ticklabel objects>)"
            ]
          },
          "metadata": {},
          "execution_count": 197
        },
        {
          "output_type": "display_data",
          "data": {
            "image/png": "[encoded data removed]",
            "text/plain": [
              "<Figure size 720x360 with 1 Axes>"
            ]
          },
          "metadata": {
            "needs_background": "light"
          }
        }
      ]
    },
    {
      "cell_type": "markdown",
      "metadata": {
        "id": "XSU4yTzEjGAN"
      },
      "source": [
        "#Limpando os imóveis com valores de condomínios outliers"
      ]
    },
    {
      "cell_type": "code",
      "metadata": {
        "colab": {
          "base_uri": "https://localhost:8080/",
          "height": 423
        },
        "id": "1J_OmcpGjKfo",
        "outputId": "ffc27d7d-fe9c-48da-ed2f-1b79cc505587"
      },
      "source": [
        "plt.figure(figsize=(10,5))\n",
        "sns.boxplot(data=df[[\"bairro\", \"condo\"]], y=\"condo\", x=\"bairro\")\n",
        "plt.xticks(rotation=45)"
      ],
      "execution_count": 198,
      "outputs": [
        {
          "output_type": "execute_result",
          "data": {
            "text/plain": [
              "(array([ 0,  1,  2,  3,  4,  5,  6,  7,  8,  9, 10, 11, 12, 13, 14, 15, 16,\n",
              "        17]), <a list of 18 Text major ticklabel objects>)"
            ]
          },
          "metadata": {},
          "execution_count": 198
        },
        {
          "output_type": "display_data",
          "data": {
            "image/png": "[encoded data removed]",
            "text/plain": [
              "<Figure size 720x360 with 1 Axes>"
            ]
          },
          "metadata": {
            "needs_background": "light"
          }
        }
      ]
    },
    {
      "cell_type": "code",
      "metadata": {
        "colab": {
          "base_uri": "https://localhost:8080/"
        },
        "id": "2HG32dBQkDeV",
        "outputId": "3c49028a-5eea-4e80-96ff-23d3504c6b1b"
      },
      "source": [
        "#Realizando uma descrição dos dados\n",
        "df[\"condo\"].describe()"
      ],
      "execution_count": 199,
      "outputs": [
        {
          "output_type": "execute_result",
          "data": {
            "text/plain": [
              "count    1.326000e+04\n",
              "mean     6.421051e+03\n",
              "std      3.532064e+05\n",
              "min      1.000000e+00\n",
              "25%      4.770000e+02\n",
              "50%      7.370000e+02\n",
              "75%      1.200000e+03\n",
              "max      4.000890e+07\n",
              "Name: condo, dtype: float64"
            ]
          },
          "metadata": {},
          "execution_count": 199
        }
      ]
    },
    {
      "cell_type": "code",
      "metadata": {
        "id": "z_iAJENykObv"
      },
      "source": [
        "#Tem alguns registros com o valor de condomínio de 1 real.\n",
        "df[\"condo\"].quantile(0.025)\n",
        "#Vou realizar um corte em 2,5% dos meus dados. Tudo que estiver abaixo será eliminado\n",
        "df.loc[df[\"condo\"] < 100, \"condo\"] = np.nan"
      ],
      "execution_count": 201,
      "outputs": []
    },
    {
      "cell_type": "code",
      "metadata": {
        "colab": {
          "base_uri": "https://localhost:8080/"
        },
        "id": "Zl-4d2WUk31R",
        "outputId": "be6d7ecc-1adb-4497-bd1b-006fb210562f"
      },
      "source": [
        "#Removendo os outliers\n",
        "for bairro in df[\"bairro\"].unique():\n",
        "  df = remove_outliers(df, bairro, \"condo\")"
      ],
      "execution_count": 202,
      "outputs": [
        {
          "output_type": "stream",
          "name": "stdout",
          "text": [
            "Lower bound: 0, Upper bound: 2777.0\n",
            "brooklin removidos por IQR: 3.27169%\n",
            "\n",
            "Lower bound: 0, Upper bound: 1305.0\n",
            "butanta removidos por IQR: 3.08555%\n",
            "\n",
            "republica: a remoção por IQR seria 9.648%\n",
            "Lower Bound: 100.0 e Upper Bound: 1474.9999999999966\n",
            "Removidos por percentil 5.08475% dos dados\n",
            "\n",
            "Lower bound: 0, Upper bound: 890.5\n",
            "bras removidos por IQR: 2.2293%\n",
            "\n",
            "fregesia do o: a remoção por IQR seria 7.743%\n",
            "Lower Bound: 100.0 e Upper Bound: 1222.95\n",
            "Removidos por percentil 5.11811% dos dados\n",
            "\n",
            "higienopolis: a remoção por IQR seria 5.29%\n",
            "Lower Bound: 111.0 e Upper Bound: 6219.0\n",
            "Removidos por percentil 4.53401% dos dados\n",
            "\n",
            "jardins: a remoção por IQR seria 6.922%\n",
            "Lower Bound: 133.0 e Upper Bound: 4908.000000000002\n",
            "Removidos por percentil 5.00736% dos dados\n",
            "\n",
            "lapa: a remoção por IQR seria 5.667%\n",
            "Lower Bound: 100.0 e Upper Bound: 1700.0\n",
            "Removidos por percentil 4.83333% dos dados\n",
            "\n",
            "moema: a remoção por IQR seria 6.114%\n",
            "Lower Bound: 111.0 e Upper Bound: 4300.0\n",
            "Removidos por percentil 4.94905% dos dados\n",
            "\n",
            "mooca: a remoção por IQR seria 5.758%\n",
            "Lower Bound: 111.0 e Upper Bound: 1500.0\n",
            "Removidos por percentil 4.24242% dos dados\n",
            "\n",
            "morumbi: a remoção por IQR seria 5.84%\n",
            "Lower Bound: 111.0 e Upper Bound: 2800.0\n",
            "Removidos por percentil 4.88677% dos dados\n",
            "\n",
            "pinheiros: a remoção por IQR seria 6.151%\n",
            "Lower Bound: 111.0 e Upper Bound: 2700.0\n",
            "Removidos por percentil 4.73186% dos dados\n",
            "\n",
            "santana: a remoção por IQR seria 5.177%\n",
            "Lower Bound: 100.0 e Upper Bound: 2800.0\n",
            "Removidos por percentil 4.41919% dos dados\n",
            "\n",
            "saude: a remoção por IQR seria 6.934%\n",
            "Lower Bound: 100.0 e Upper Bound: 1499.7999999999997\n",
            "Removidos por percentil 5.10949% dos dados\n",
            "\n",
            "vila mariana: a remoção por IQR seria 7.713%\n",
            "Lower Bound: 111.0 e Upper Bound: 2800.0\n",
            "Removidos por percentil 4.92021% dos dados\n",
            "\n",
            "Lower bound: 0, Upper bound: 1231.25\n",
            "vila matilde removidos por IQR: 4.16667%\n",
            "\n",
            "Lower bound: 74.25, Upper bound: 756.25\n",
            "campo limpo removidos por IQR: 4.83271%\n",
            "\n",
            "Lower bound: 0, Upper bound: 1485.0\n",
            "tucuruvi removidos por IQR: 4.68085%\n",
            "\n"
          ]
        }
      ]
    },
    {
      "cell_type": "code",
      "metadata": {
        "colab": {
          "base_uri": "https://localhost:8080/",
          "height": 412
        },
        "id": "OcqGdZfllBPC",
        "outputId": "8b38d765-efab-447e-f6f2-dd268b829222"
      },
      "source": [
        "plt.figure(figsize=(10,5))\n",
        "sns.boxplot(data=df[[\"bairro\", \"condo\"]], y=\"condo\", x=\"bairro\")\n",
        "plt.xticks(rotation = 45)"
      ],
      "execution_count": 203,
      "outputs": [
        {
          "output_type": "execute_result",
          "data": {
            "text/plain": [
              "(array([ 0,  1,  2,  3,  4,  5,  6,  7,  8,  9, 10, 11, 12, 13, 14, 15, 16,\n",
              "        17]), <a list of 18 Text major ticklabel objects>)"
            ]
          },
          "metadata": {},
          "execution_count": 203
        },
        {
          "output_type": "display_data",
          "data": {
            "image/png": "[encoded data removed]",
            "text/plain": [
              "<Figure size 720x360 with 1 Axes>"
            ]
          },
          "metadata": {
            "needs_background": "light"
          }
        }
      ]
    },
    {
      "cell_type": "markdown",
      "metadata": {
        "id": "U7afg8YWjkQq"
      },
      "source": [
        "#Verificando a relação entre área e preço"
      ]
    },
    {
      "cell_type": "code",
      "metadata": {
        "colab": {
          "base_uri": "https://localhost:8080/",
          "height": 387
        },
        "id": "RPw5IqOhlQef",
        "outputId": "e0ac0fbc-f16d-466e-b7ea-0bb0d457370a"
      },
      "source": [
        "sns.lmplot(data=df, x=\"area\", y=\"price\")"
      ],
      "execution_count": 204,
      "outputs": [
        {
          "output_type": "execute_result",
          "data": {
            "text/plain": [
              "<seaborn.axisgrid.FacetGrid at 0x7ff41bb05c10>"
            ]
          },
          "metadata": {},
          "execution_count": 204
        },
        {
          "output_type": "display_data",
          "data": {
            "image/png": "[encoded data removed]",
            "text/plain": [
              "<Figure size 360x360 with 1 Axes>"
            ]
          },
          "metadata": {
            "needs_background": "light"
          }
        }
      ]
    },
    {
      "cell_type": "markdown",
      "metadata": {
        "id": "VIO577jkrwZK"
      },
      "source": [
        "# Analisando a correlação entre as variáveis\n",
        "- Area, rooms, bathrooms, garages, price e condo"
      ]
    },
    {
      "cell_type": "code",
      "metadata": {
        "colab": {
          "base_uri": "https://localhost:8080/",
          "height": 237
        },
        "id": "C6hPRneur0ut",
        "outputId": "1c1e20af-040d-452f-c8e0-83a71b87c37d"
      },
      "source": [
        "df[df.columns[4:10]].corr()"
      ],
      "execution_count": 205,
      "outputs": [
        {
          "output_type": "execute_result",
          "data": {
            "text/html": [
              "<div>\n",
              "<style scoped>\n",
              "    .dataframe tbody tr th:only-of-type {\n",
              "        vertical-align: middle;\n",
              "    }\n",
              "\n",
              "    .dataframe tbody tr th {\n",
              "        vertical-align: top;\n",
              "    }\n",
              "\n",
              "    .dataframe thead th {\n",
              "        text-align: right;\n",
              "    }\n",
              "</style>\n",
              "<table border=\"1\" class=\"dataframe\">\n",
              "  <thead>\n",
              "    <tr style=\"text-align: right;\">\n",
              "      <th></th>\n",
              "      <th>area</th>\n",
              "      <th>rooms</th>\n",
              "      <th>bathrooms</th>\n",
              "      <th>garages</th>\n",
              "      <th>price</th>\n",
              "      <th>condo</th>\n",
              "    </tr>\n",
              "  </thead>\n",
              "  <tbody>\n",
              "    <tr>\n",
              "      <th>area</th>\n",
              "      <td>1.000000</td>\n",
              "      <td>0.599647</td>\n",
              "      <td>0.732593</td>\n",
              "      <td>0.526205</td>\n",
              "      <td>0.846341</td>\n",
              "      <td>0.843835</td>\n",
              "    </tr>\n",
              "    <tr>\n",
              "      <th>rooms</th>\n",
              "      <td>0.599647</td>\n",
              "      <td>1.000000</td>\n",
              "      <td>0.692417</td>\n",
              "      <td>0.540270</td>\n",
              "      <td>0.426787</td>\n",
              "      <td>0.408548</td>\n",
              "    </tr>\n",
              "    <tr>\n",
              "      <th>bathrooms</th>\n",
              "      <td>0.732593</td>\n",
              "      <td>0.692417</td>\n",
              "      <td>1.000000</td>\n",
              "      <td>0.621239</td>\n",
              "      <td>0.641976</td>\n",
              "      <td>0.573445</td>\n",
              "    </tr>\n",
              "    <tr>\n",
              "      <th>garages</th>\n",
              "      <td>0.526205</td>\n",
              "      <td>0.540270</td>\n",
              "      <td>0.621239</td>\n",
              "      <td>1.000000</td>\n",
              "      <td>0.450881</td>\n",
              "      <td>0.459556</td>\n",
              "    </tr>\n",
              "    <tr>\n",
              "      <th>price</th>\n",
              "      <td>0.846341</td>\n",
              "      <td>0.426787</td>\n",
              "      <td>0.641976</td>\n",
              "      <td>0.450881</td>\n",
              "      <td>1.000000</td>\n",
              "      <td>0.804861</td>\n",
              "    </tr>\n",
              "    <tr>\n",
              "      <th>condo</th>\n",
              "      <td>0.843835</td>\n",
              "      <td>0.408548</td>\n",
              "      <td>0.573445</td>\n",
              "      <td>0.459556</td>\n",
              "      <td>0.804861</td>\n",
              "      <td>1.000000</td>\n",
              "    </tr>\n",
              "  </tbody>\n",
              "</table>\n",
              "</div>"
            ],
            "text/plain": [
              "               area     rooms  bathrooms   garages     price     condo\n",
              "area       1.000000  0.599647   0.732593  0.526205  0.846341  0.843835\n",
              "rooms      0.599647  1.000000   0.692417  0.540270  0.426787  0.408548\n",
              "bathrooms  0.732593  0.692417   1.000000  0.621239  0.641976  0.573445\n",
              "garages    0.526205  0.540270   0.621239  1.000000  0.450881  0.459556\n",
              "price      0.846341  0.426787   0.641976  0.450881  1.000000  0.804861\n",
              "condo      0.843835  0.408548   0.573445  0.459556  0.804861  1.000000"
            ]
          },
          "metadata": {},
          "execution_count": 205
        }
      ]
    },
    {
      "cell_type": "code",
      "metadata": {
        "id": "x0-2HRzu1nr7"
      },
      "source": [
        "df.to_csv(\"dados_limpos.csv\", index= False)"
      ],
      "execution_count": 206,
      "outputs": []
    }
  ]
}